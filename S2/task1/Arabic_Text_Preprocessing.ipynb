{
 "cells": [
  {
   "cell_type": "markdown",
   "id": "352c78b4",
   "metadata": {},
   "source": [
    "# Arabic Text Preprocessing Explained (مصري)"
   ]
  },
  {
   "cell_type": "markdown",
   "id": "48d1b8b0",
   "metadata": {},
   "source": [
    "الكود ده مكتوب بلغة بايثون وواضح إنه معمول علشان يعالج النصوص العربية قبل ما يستخدمها في تطبيقات زي تحليل النصوص أو المعالجة الطبيعية للغة. تعال نشرحه خطوة بخطوة باللهجة المصرية:"
   ]
  },
  {
   "cell_type": "markdown",
   "id": "c9ad507b",
   "metadata": {},
   "source": [
    "### **1. إزالة التشكيل من النص:**\n",
    "```python\n",
    "text = re.sub(r'[\\u064B-\\u065F]', '', text)\n",
    "```\n",
    "الجملة دي بتشيل التشكيل زي (الفتحة، الضمة، الكسرة، السكون، الشدة... إلخ) من النص العربي. الحروف دي موجودة في الـ Unicode بين القيمتين `\\u064B` و `\\u065F`."
   ]
  },
  {
   "cell_type": "markdown",
   "id": "f0172d25",
   "metadata": {},
   "source": [
    "### **2. توحيد الحروف:**\n",
    "دي خطوات لتوحيد بعض الحروف اللي ليها أكتر من شكل في اللغة العربية:\n",
    "\n",
    "- **الهمزات المختلفة:**\n",
    "  ```python\n",
    "  text = re.sub(r'[إأآا]', 'ا', text)\n",
    "  ```\n",
    "  الجملة دي بتبدل كل أشكال الألف (إ، أ، آ) وتحولهم لـ \"ا\".\n",
    "\n",
    "- **الهاء والتاء المربوطة:**\n",
    "  ```python\n",
    "  text = re.sub(r'ة', 'ه', text)\n",
    "  ```\n",
    "  التاء المربوطة \"ة\" بتتحول لهاء \"ه\".\n",
    "\n",
    "- **الألف المقصورة والياء:**\n",
    "  ```python\n",
    "  text = re.sub(r'ى', 'ي', text)\n",
    "  ```\n",
    "  الألف المقصورة \"ى\" بتتحول لياء \"ي\".\n",
    "\n",
    "- **الهمزة على الواو:**\n",
    "  ```python\n",
    "  text = re.sub(r'ؤ', 'و', text)\n",
    "  ```\n",
    "  الهمزة على الواو \"ؤ\" بتتحول لـ \"و\".\n",
    "\n",
    "- **إزالة همزة الوصل والقطع:**\n",
    "  ```python\n",
    "  text = re.sub(r'[ء]', '', text)\n",
    "  ```\n",
    "  همزة الوصل أو القطع (ء) بتتشال خالص."
   ]
  },
  {
   "cell_type": "markdown",
   "id": "cf3e9cf5",
   "metadata": {},
   "source": [
    "### **3. تحويل النص لـ Lowercase:**\n",
    "```python\n",
    "text = text.lower()\n",
    "```\n",
    "الخطوة دي بتحول كل الحروف الصغيرة لو موجودة، بس في اللغة العربية مفيش فرق بين الحروف الكبيرة والصغيرة زي الإنجليزي."
   ]
  },
  {
   "cell_type": "markdown",
   "id": "060c00e3",
   "metadata": {},
   "source": [
    "### **4. إزالة الرموز والأرقام:**\n",
    "- **إزالة العلامات والرموز:**\n",
    "  ```python\n",
    "  text = re.sub(r'[^\\w\\s]', '', text)\n",
    "  ```\n",
    "  أي حاجة مش حروف أو مسافات (زي علامات الترقيم) بتتشال.\n",
    "\n",
    "- **إزالة الأرقام:**\n",
    "  ```python\n",
    "  text = re.sub(r'\\d+', '', text)\n",
    "  ```\n",
    "  أي أرقام موجودة في النص (زي 1234) بتتشال."
   ]
  },
  {
   "cell_type": "markdown",
   "id": "d5b2067c",
   "metadata": {},
   "source": [
    "### **5. تقسيم النص لكلمات:**\n",
    "```python\n",
    "words = text.split()\n",
    "```\n",
    "النص بيتقسم لقائمة (list) من الكلمات باستخدام المسافات."
   ]
  },
  {
   "cell_type": "markdown",
   "id": "98aca08a",
   "metadata": {},
   "source": [
    "### **ليه كل ده؟**\n",
    "الخطوات دي كلها علشان تنظف النص العربي وتخليه في صورة موحدة ومفهومة للبرامج، زي لما تيجي تستخدمه في تدريب موديلات التعلم الآلي أو أي تحليل لغوي. يعني الكود بيحاول يتخلص من كل الحاجات اللي مش أساسية وموحدة الحروف علشان يقلل التعقيد."
   ]
  },
  {
   "cell_type": "code",
   "execution_count": 1,
   "id": "4ec21a84",
   "metadata": {},
   "outputs": [],
   "source": [
    "import re\n",
    "from nltk.corpus import stopwords\n",
    "from nltk.stem.isri import ISRIStemmer\n",
    "\n",
    "def preprocess_text_ar(text):\n",
    "    text = re.sub(r'[\\u064B-\\u065F]', '', text)  # إزالة التشكيل\n",
    "    text = re.sub(r'[إأآا]', 'ا', text)  # توحيد الألف\n",
    "    text = re.sub(r'ة', 'ه', text)  # تحويل التاء المربوطة لهاء\n",
    "    text = re.sub(r'ى', 'ي', text)  # تحويل الألف المقصورة لياء\n",
    "    text = re.sub(r'ؤ', 'و', text)  # تحويل الهمزة على الواو إلى واو\n",
    "    text = re.sub(r'[ء]', '', text)  # إزالة همزة القطع\n",
    "\n",
    "    text = text.lower()  # تحويل النص لحروف صغيرة\n",
    "\n",
    "    text = re.sub(r'[^\\w\\s]', '', text)  # إزالة الرموز\n",
    "    text = re.sub(r'\\d+', '', text)  # إزالة الأرقام\n",
    "\n",
    "    words = text.split()  # تقسيم النص لكلمات\n",
    "\n",
    "    return words"
   ]
  }
 ],
 "metadata": {
  "kernelspec": {
   "display_name": "base",
   "language": "python",
   "name": "python3"
  },
  "language_info": {
   "codemirror_mode": {
    "name": "ipython",
    "version": 3
   },
   "file_extension": ".py",
   "mimetype": "text/x-python",
   "name": "python",
   "nbconvert_exporter": "python",
   "pygments_lexer": "ipython3",
   "version": "3.11.9"
  }
 },
 "nbformat": 4,
 "nbformat_minor": 5
}
