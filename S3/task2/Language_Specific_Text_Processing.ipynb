{
 "cells": [
  {
   "cell_type": "markdown",
   "id": "8df02711",
   "metadata": {},
   "source": [
    "# **Language-Specific & Advanced Text Processing Techniques**"
   ]
  },
  {
   "cell_type": "markdown",
   "id": "7ca543a5",
   "metadata": {},
   "source": [
    "### Objective:\n",
    "In this notebook, we'll implement language-specific and advanced text preprocessing techniques.\n",
    "We'll focus on:\n",
    "- **Arabic-specific text processing**: Normalization and diacritization.\n",
    "- **English-specific text processing**: Lemmatization and abbreviation handling.\n",
    "- **Advanced processing**: Multilingual text handling and sentiment analysis preprocessing.\n"
   ]
  },
  {
   "cell_type": "markdown",
   "id": "cfe6d224",
   "metadata": {},
   "source": [
    "## **1. Setup**"
   ]
  },
  {
   "cell_type": "code",
   "execution_count": 1,
   "id": "0e33e3d9",
   "metadata": {},
   "outputs": [
    {
     "ename": "ImportError",
     "evalue": "cannot import name 'normalize_arabic' from 'pyarabic.araby' (c:\\Users\\abdulrahman_1114\\anaconda3\\Lib\\site-packages\\pyarabic\\araby.py)",
     "output_type": "error",
     "traceback": [
      "\u001b[1;31m---------------------------------------------------------------------------\u001b[0m",
      "\u001b[1;31mImportError\u001b[0m                               Traceback (most recent call last)",
      "Cell \u001b[1;32mIn[1], line 2\u001b[0m\n\u001b[0;32m      1\u001b[0m \u001b[38;5;28;01mimport\u001b[39;00m \u001b[38;5;21;01mspacy\u001b[39;00m\n\u001b[1;32m----> 2\u001b[0m \u001b[38;5;28;01mfrom\u001b[39;00m \u001b[38;5;21;01mpyarabic\u001b[39;00m\u001b[38;5;21;01m.\u001b[39;00m\u001b[38;5;21;01maraby\u001b[39;00m \u001b[38;5;28;01mimport\u001b[39;00m strip_diacritics, normalize_arabic\n\u001b[0;32m      3\u001b[0m \u001b[38;5;28;01mfrom\u001b[39;00m \u001b[38;5;21;01mlangdetect\u001b[39;00m \u001b[38;5;28;01mimport\u001b[39;00m detect\n\u001b[0;32m      4\u001b[0m \u001b[38;5;28;01mimport\u001b[39;00m \u001b[38;5;21;01mre\u001b[39;00m\n",
      "\u001b[1;31mImportError\u001b[0m: cannot import name 'normalize_arabic' from 'pyarabic.araby' (c:\\Users\\abdulrahman_1114\\anaconda3\\Lib\\site-packages\\pyarabic\\araby.py)"
     ]
    }
   ],
   "source": [
    "import spacy\n",
    "from pyarabic.araby import strip_diacritics, normalize_arabic\n",
    "from langdetect import detect\n",
    "import re\n",
    "from transformers import pipeline\n",
    "import warnings\n",
    "warnings.filterwarnings('ignore')"
   ]
  },
  {
   "cell_type": "markdown",
   "id": "a02b375f",
   "metadata": {},
   "source": [
    "## **2. Load and Explore Data**"
   ]
  },
  {
   "cell_type": "code",
   "execution_count": null,
   "id": "9c2e8191",
   "metadata": {},
   "outputs": [],
   "source": [
    "# Sample Arabic and English text for preprocessing\n",
    "arabic_text = \"الْكِتَابُ جَمِيلٌ وَمُفِيدٌ.\"\n",
    "english_text = \"I'm learning NLP, and it's amazing!\"\n",
    "multilingual_text = \"I love البرمجة because it’s creative!\"\n"
   ]
  },
  {
   "cell_type": "markdown",
   "id": "65578b4a",
   "metadata": {},
   "source": [
    "## **3. Arabic-Specific Text Processing**"
   ]
  },
  {
   "cell_type": "code",
   "execution_count": null,
   "id": "95422797",
   "metadata": {},
   "outputs": [],
   "source": [
    "# Normalize Arabic text\n",
    "normalized_arabic = normalize_arabic(arabic_text)\n",
    "# Remove diacritics\n",
    "undiacritized_arabic = strip_diacritics(normalized_arabic)\n",
    "print(\"Original Arabic Text:\", arabic_text)\n",
    "print(\"Normalized Arabic Text:\", normalized_arabic)\n",
    "print(\"Undiacritized Arabic Text:\", undiacritized_arabic)"
   ]
  },
  {
   "cell_type": "markdown",
   "id": "a27092b9",
   "metadata": {},
   "source": [
    "## **4. English-Specific Text Processing**"
   ]
  },
  {
   "cell_type": "code",
   "execution_count": null,
   "id": "1a765c1b",
   "metadata": {},
   "outputs": [],
   "source": [
    "# Load SpaCy model\n",
    "nlp = spacy.load('en_core_web_sm')\n",
    "\n",
    "# Lemmatize English text\n",
    "doc = nlp(english_text)\n",
    "lemmatized_text = \" \".join([token.lemma_ for token in doc])\n",
    "print(\"Original English Text:\", english_text)\n",
    "print(\"Lemmatized Text:\", lemmatized_text)\n",
    "\n",
    "# Handle abbreviations (simple regex-based example)\n",
    "abbreviation_mapping = {\"I'm\": \"I am\", \"it's\": \"it is\"}\n",
    "expanded_text = re.sub(r\"\\b(?:I'm|it's)\\b\", lambda match: abbreviation_mapping[match.group(0)], english_text)\n",
    "print(\"Expanded Abbreviations:\", expanded_text)"
   ]
  },
  {
   "cell_type": "markdown",
   "id": "09dd1318",
   "metadata": {},
   "source": [
    "## **5. Advanced Text Processing**"
   ]
  },
  {
   "cell_type": "code",
   "execution_count": null,
   "id": "5439a85e",
   "metadata": {},
   "outputs": [],
   "source": [
    "# Detect language of multilingual text\n",
    "detected_language = detect(multilingual_text)\n",
    "print(\"Detected Language:\", detected_language)\n",
    "\n",
    "# Preprocessing for sentiment analysis using Hugging Face\n",
    "sentiment_analyzer = pipeline('sentiment-analysis')\n",
    "sentiment_result = sentiment_analyzer(multilingual_text)\n",
    "print(\"Sentiment Analysis Result:\", sentiment_result)"
   ]
  },
  {
   "cell_type": "markdown",
   "id": "9e4498fe",
   "metadata": {},
   "source": [
    "## **6. Conclusion**"
   ]
  },
  {
   "cell_type": "markdown",
   "id": "71345ba3",
   "metadata": {},
   "source": [
    "### Insights:\n",
    "- We successfully implemented Arabic-specific preprocessing techniques like normalization and diacritics removal.\n",
    "- For English, we performed lemmatization and expanded abbreviations using SpaCy and regex.\n",
    "- Advanced processing included multilingual text handling and sentiment analysis using Hugging Face.\n",
    "\n",
    "### Challenges:\n",
    "- Handling mixed-language text can be tricky without proper tools.\n",
    "- Some Arabic preprocessing steps, like morphological analysis, require specialized libraries."
   ]
  }
 ],
 "metadata": {
  "kernelspec": {
   "display_name": "base",
   "language": "python",
   "name": "python3"
  },
  "language_info": {
   "codemirror_mode": {
    "name": "ipython",
    "version": 3
   },
   "file_extension": ".py",
   "mimetype": "text/x-python",
   "name": "python",
   "nbconvert_exporter": "python",
   "pygments_lexer": "ipython3",
   "version": "3.11.9"
  }
 },
 "nbformat": 4,
 "nbformat_minor": 5
}
